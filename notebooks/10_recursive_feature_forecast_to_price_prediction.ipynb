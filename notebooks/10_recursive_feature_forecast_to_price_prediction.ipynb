{
 "cells": [
  {
   "cell_type": "markdown",
   "metadata": {},
   "source": [
    "# 🔁 10 - Predict Price Using Forecasted Features\n",
    "\n",
    "This notebook simulates a real-world scenario: forecast all required features (solar, wind, load, fuel prices, etc.) a week ahead, and use those to predict energy prices for Jan 1–7, 2020."
   ]
  },
  {
   "cell_type": "code",
   "execution_count": 10,
   "metadata": {},
   "outputs": [],
   "source": [
    "import pandas as pd\n",
    "import numpy as np\n",
    "from xgboost import XGBRegressor\n",
    "from sklearn.metrics import mean_absolute_error, mean_squared_error\n",
    "import matplotlib.pyplot as plt\n",
    "\n",
    "# Load cleaned dataset\n",
    "df = pd.read_csv('../data/processed/merged_energy_data_final_step_1.csv', parse_dates=['utc_timestamp'])\n",
    "df.set_index('utc_timestamp', inplace=True)\n",
    "df = df.sort_index()"
   ]
  },
  {
   "cell_type": "markdown",
   "metadata": {},
   "source": [
    "## 🎯 Step 1: Forecast All Input Features One Week Ahead"
   ]
  },
  {
   "cell_type": "code",
   "execution_count": 11,
   "metadata": {},
   "outputs": [
    {
     "name": "stdout",
     "output_type": "stream",
     "text": [
      "🔮 Forecasting: DE_solar_generation_actual\n",
      "🔮 Forecasting: DE_wind_generation_actual\n",
      "🔮 Forecasting: DE_load_actual_entsoe_transparency\n",
      "🔮 Forecasting: Gas_Price\n",
      "🔮 Forecasting: Oil_Price\n",
      "🔮 Forecasting: DE_radiation_direct_horizontal\n",
      "🔮 Forecasting: DE_radiation_diffuse_horizontal\n",
      "🔮 Forecasting: DE_temperature\n"
     ]
    }
   ],
   "source": [
    "# Features to forecast\n",
    "features_to_forecast = [\n",
    "    'DE_solar_generation_actual', 'DE_wind_generation_actual',\n",
    "    'DE_load_actual_entsoe_transparency',\n",
    "    'Gas_Price', 'Oil_Price',\n",
    "    'DE_radiation_direct_horizontal', 'DE_radiation_diffuse_horizontal',\n",
    "    'DE_temperature'\n",
    "]\n",
    "\n",
    "# Forecast container\n",
    "input_predictions = {}\n",
    "start_forecast = pd.Timestamp('2019-12-30 01:00:00')\n",
    "forecast_steps = 168\n",
    "\n",
    "for feature in features_to_forecast:\n",
    "    print(f'🔮 Forecasting: {feature}')\n",
    "    \n",
    "    data = df[[feature]].copy()\n",
    "    data['hour'] = data.index.hour\n",
    "    data['dayofweek'] = data.index.dayofweek\n",
    "    data['month'] = data.index.month\n",
    "\n",
    "    for lag in [1, 24, 168]:\n",
    "        data[f'lag_{lag}'] = data[feature].shift(lag)\n",
    "    data.dropna(inplace=True)\n",
    "\n",
    "    X = data[[f'lag_{l}' for l in [1, 24, 168]] + ['hour', 'dayofweek', 'month']]\n",
    "    y = data[feature]\n",
    "\n",
    "    model = XGBRegressor(n_estimators=100)\n",
    "    model.fit(X, y)\n",
    "\n",
    "    preds = []\n",
    "    current = df.loc[start_forecast - pd.Timedelta(hours=168):start_forecast].copy()\n",
    "\n",
    "    for i in range(forecast_steps):\n",
    "        t = start_forecast + pd.Timedelta(hours=i)\n",
    "        row = {\n",
    "            'lag_1': current[feature].iloc[-1],\n",
    "            'lag_24': current[feature].iloc[-24],\n",
    "            'lag_168': current[feature].iloc[-168],\n",
    "            'hour': t.hour,\n",
    "            'dayofweek': t.dayofweek,\n",
    "            'month': t.month\n",
    "        }\n",
    "        x_input = pd.DataFrame([row])\n",
    "        y_pred = model.predict(x_input)[0]\n",
    "        preds.append((t, y_pred))\n",
    "        # Append to current\n",
    "        new_row = pd.DataFrame({feature: [y_pred]}, index=[t])\n",
    "        current = pd.concat([current, new_row])\n",
    "\n",
    "    forecast_df = pd.DataFrame(preds, columns=['utc_timestamp', feature]).set_index('utc_timestamp')\n",
    "    input_predictions[feature] = forecast_df"
   ]
  },
  {
   "cell_type": "markdown",
   "metadata": {},
   "source": [
    "## 🧪 Step 2: Evaluate Feature Forecast Accuracy on Last Week of 2019"
   ]
  },
  {
   "cell_type": "code",
   "execution_count": 12,
   "metadata": {},
   "outputs": [
    {
     "name": "stdout",
     "output_type": "stream",
     "text": [
      "⚠️ Skipping DE_solar_generation_actual: no overlapping timestamps between predictions and actual data\n",
      "⚠️ Skipping DE_wind_generation_actual: no overlapping timestamps between predictions and actual data\n",
      "⚠️ Skipping DE_load_actual_entsoe_transparency: no overlapping timestamps between predictions and actual data\n",
      "⚠️ Skipping Gas_Price: no overlapping timestamps between predictions and actual data\n",
      "⚠️ Skipping Oil_Price: no overlapping timestamps between predictions and actual data\n",
      "⚠️ Skipping DE_radiation_direct_horizontal: no overlapping timestamps between predictions and actual data\n",
      "⚠️ Skipping DE_radiation_diffuse_horizontal: no overlapping timestamps between predictions and actual data\n",
      "⚠️ Skipping DE_temperature: no overlapping timestamps between predictions and actual data\n"
     ]
    }
   ],
   "source": [
    "from sklearn.metrics import mean_absolute_error, mean_squared_error\n",
    "\n",
    "# Only evaluate predictions from 2019-12-24 to 2019-12-31 (168 hours)\n",
    "start_forecast = pd.Timestamp('2019-12-24 00:00:00')\n",
    "eval_end = pd.Timestamp('2019-12-31 23:00:00')\n",
    "\n",
    "for feature, forecast_df in input_predictions.items():\n",
    "    # Restrict forecasted values to where actual data exists\n",
    "    valid_idx = forecast_df.index.intersection(df.index)\n",
    "\n",
    "    if len(valid_idx) == 0:\n",
    "        print(f\"⚠️ Skipping {feature}: no overlapping timestamps between predictions and actual data\")\n",
    "        continue\n",
    "\n",
    "    pred = forecast_df.loc[valid_idx, feature]\n",
    "    actual = df.loc[valid_idx, feature]\n",
    "\n",
    "    if pred.empty or actual.empty:\n",
    "        print(f\"⚠️ Skipping {feature}: prediction or actual values are empty after filtering\")\n",
    "        continue\n",
    "\n",
    "    mae = mean_absolute_error(actual, pred)\n",
    "    rmse = np.sqrt(mean_squared_error(actual, pred))\n",
    "\n",
    "    print(f'{feature} → MAE: {mae:.2f}, RMSE: {rmse:.2f}')\n",
    "\n",
    "    plt.figure(figsize=(12, 3))\n",
    "    plt.plot(actual.index, actual, label='Actual')\n",
    "    plt.plot(pred.index, pred, label='Predicted')\n",
    "    plt.title(f\"{feature} Forecast Evaluation\")\n",
    "    plt.legend()\n",
    "    plt.grid(True)\n",
    "    plt.show()\n"
   ]
  },
  {
   "cell_type": "markdown",
   "metadata": {},
   "source": [
    "## ⚡ Step 3: Use Forecasted Features to Predict Price (Jan 1–7, 2020)"
   ]
  },
  {
   "cell_type": "code",
   "execution_count": 13,
   "metadata": {},
   "outputs": [
    {
     "ename": "KeyError",
     "evalue": "\"['hour', 'dayofweek', 'month', 'solar_load_ratio', 'wind_load_ratio'] not in index\"",
     "output_type": "error",
     "traceback": [
      "\u001b[1;31m---------------------------------------------------------------------------\u001b[0m",
      "\u001b[1;31mKeyError\u001b[0m                                  Traceback (most recent call last)",
      "Cell \u001b[1;32mIn[13], line 33\u001b[0m\n\u001b[0;32m     23\u001b[0m \u001b[38;5;66;03m# Train price model on original features\u001b[39;00m\n\u001b[0;32m     24\u001b[0m features \u001b[38;5;241m=\u001b[39m [\n\u001b[0;32m     25\u001b[0m     \u001b[38;5;124m'\u001b[39m\u001b[38;5;124mDE_solar_generation_actual\u001b[39m\u001b[38;5;124m'\u001b[39m, \u001b[38;5;124m'\u001b[39m\u001b[38;5;124mDE_wind_generation_actual\u001b[39m\u001b[38;5;124m'\u001b[39m,\n\u001b[0;32m     26\u001b[0m     \u001b[38;5;124m'\u001b[39m\u001b[38;5;124mDE_load_actual_entsoe_transparency\u001b[39m\u001b[38;5;124m'\u001b[39m, \u001b[38;5;124m'\u001b[39m\u001b[38;5;124mGas_Price\u001b[39m\u001b[38;5;124m'\u001b[39m, \u001b[38;5;124m'\u001b[39m\u001b[38;5;124mOil_Price\u001b[39m\u001b[38;5;124m'\u001b[39m,\n\u001b[1;32m   (...)\u001b[0m\n\u001b[0;32m     30\u001b[0m     \u001b[38;5;124m'\u001b[39m\u001b[38;5;124msolar_load_ratio\u001b[39m\u001b[38;5;124m'\u001b[39m, \u001b[38;5;124m'\u001b[39m\u001b[38;5;124mwind_load_ratio\u001b[39m\u001b[38;5;124m'\u001b[39m\n\u001b[0;32m     31\u001b[0m ]\n\u001b[1;32m---> 33\u001b[0m X_price \u001b[38;5;241m=\u001b[39m \u001b[43mfull_df\u001b[49m\u001b[43m[\u001b[49m\u001b[43mfeatures\u001b[49m\u001b[43m]\u001b[49m\n\u001b[0;32m     34\u001b[0m y_price \u001b[38;5;241m=\u001b[39m full_df[\u001b[38;5;124m'\u001b[39m\u001b[38;5;124mPrice (EUR/MWhe)\u001b[39m\u001b[38;5;124m'\u001b[39m]\n\u001b[0;32m     35\u001b[0m price_model\u001b[38;5;241m.\u001b[39mfit(X_price, y_price)\n",
      "File \u001b[1;32mc:\\Users\\iTECH\\.julia\\conda\\3\\x86_64\\Lib\\site-packages\\pandas\\core\\frame.py:4108\u001b[0m, in \u001b[0;36mDataFrame.__getitem__\u001b[1;34m(self, key)\u001b[0m\n\u001b[0;32m   4106\u001b[0m     \u001b[38;5;28;01mif\u001b[39;00m is_iterator(key):\n\u001b[0;32m   4107\u001b[0m         key \u001b[38;5;241m=\u001b[39m \u001b[38;5;28mlist\u001b[39m(key)\n\u001b[1;32m-> 4108\u001b[0m     indexer \u001b[38;5;241m=\u001b[39m \u001b[38;5;28;43mself\u001b[39;49m\u001b[38;5;241;43m.\u001b[39;49m\u001b[43mcolumns\u001b[49m\u001b[38;5;241;43m.\u001b[39;49m\u001b[43m_get_indexer_strict\u001b[49m\u001b[43m(\u001b[49m\u001b[43mkey\u001b[49m\u001b[43m,\u001b[49m\u001b[43m \u001b[49m\u001b[38;5;124;43m\"\u001b[39;49m\u001b[38;5;124;43mcolumns\u001b[39;49m\u001b[38;5;124;43m\"\u001b[39;49m\u001b[43m)\u001b[49m[\u001b[38;5;241m1\u001b[39m]\n\u001b[0;32m   4110\u001b[0m \u001b[38;5;66;03m# take() does not accept boolean indexers\u001b[39;00m\n\u001b[0;32m   4111\u001b[0m \u001b[38;5;28;01mif\u001b[39;00m \u001b[38;5;28mgetattr\u001b[39m(indexer, \u001b[38;5;124m\"\u001b[39m\u001b[38;5;124mdtype\u001b[39m\u001b[38;5;124m\"\u001b[39m, \u001b[38;5;28;01mNone\u001b[39;00m) \u001b[38;5;241m==\u001b[39m \u001b[38;5;28mbool\u001b[39m:\n",
      "File \u001b[1;32mc:\\Users\\iTECH\\.julia\\conda\\3\\x86_64\\Lib\\site-packages\\pandas\\core\\indexes\\base.py:6200\u001b[0m, in \u001b[0;36mIndex._get_indexer_strict\u001b[1;34m(self, key, axis_name)\u001b[0m\n\u001b[0;32m   6197\u001b[0m \u001b[38;5;28;01melse\u001b[39;00m:\n\u001b[0;32m   6198\u001b[0m     keyarr, indexer, new_indexer \u001b[38;5;241m=\u001b[39m \u001b[38;5;28mself\u001b[39m\u001b[38;5;241m.\u001b[39m_reindex_non_unique(keyarr)\n\u001b[1;32m-> 6200\u001b[0m \u001b[38;5;28;43mself\u001b[39;49m\u001b[38;5;241;43m.\u001b[39;49m\u001b[43m_raise_if_missing\u001b[49m\u001b[43m(\u001b[49m\u001b[43mkeyarr\u001b[49m\u001b[43m,\u001b[49m\u001b[43m \u001b[49m\u001b[43mindexer\u001b[49m\u001b[43m,\u001b[49m\u001b[43m \u001b[49m\u001b[43maxis_name\u001b[49m\u001b[43m)\u001b[49m\n\u001b[0;32m   6202\u001b[0m keyarr \u001b[38;5;241m=\u001b[39m \u001b[38;5;28mself\u001b[39m\u001b[38;5;241m.\u001b[39mtake(indexer)\n\u001b[0;32m   6203\u001b[0m \u001b[38;5;28;01mif\u001b[39;00m \u001b[38;5;28misinstance\u001b[39m(key, Index):\n\u001b[0;32m   6204\u001b[0m     \u001b[38;5;66;03m# GH 42790 - Preserve name from an Index\u001b[39;00m\n",
      "File \u001b[1;32mc:\\Users\\iTECH\\.julia\\conda\\3\\x86_64\\Lib\\site-packages\\pandas\\core\\indexes\\base.py:6252\u001b[0m, in \u001b[0;36mIndex._raise_if_missing\u001b[1;34m(self, key, indexer, axis_name)\u001b[0m\n\u001b[0;32m   6249\u001b[0m     \u001b[38;5;28;01mraise\u001b[39;00m \u001b[38;5;167;01mKeyError\u001b[39;00m(\u001b[38;5;124mf\u001b[39m\u001b[38;5;124m\"\u001b[39m\u001b[38;5;124mNone of [\u001b[39m\u001b[38;5;132;01m{\u001b[39;00mkey\u001b[38;5;132;01m}\u001b[39;00m\u001b[38;5;124m] are in the [\u001b[39m\u001b[38;5;132;01m{\u001b[39;00maxis_name\u001b[38;5;132;01m}\u001b[39;00m\u001b[38;5;124m]\u001b[39m\u001b[38;5;124m\"\u001b[39m)\n\u001b[0;32m   6251\u001b[0m not_found \u001b[38;5;241m=\u001b[39m \u001b[38;5;28mlist\u001b[39m(ensure_index(key)[missing_mask\u001b[38;5;241m.\u001b[39mnonzero()[\u001b[38;5;241m0\u001b[39m]]\u001b[38;5;241m.\u001b[39munique())\n\u001b[1;32m-> 6252\u001b[0m \u001b[38;5;28;01mraise\u001b[39;00m \u001b[38;5;167;01mKeyError\u001b[39;00m(\u001b[38;5;124mf\u001b[39m\u001b[38;5;124m\"\u001b[39m\u001b[38;5;132;01m{\u001b[39;00mnot_found\u001b[38;5;132;01m}\u001b[39;00m\u001b[38;5;124m not in index\u001b[39m\u001b[38;5;124m\"\u001b[39m)\n",
      "\u001b[1;31mKeyError\u001b[0m: \"['hour', 'dayofweek', 'month', 'solar_load_ratio', 'wind_load_ratio'] not in index\""
     ]
    }
   ],
   "source": [
    "# Create synthetic feature DataFrame\n",
    "future_features = pd.concat(input_predictions.values(), axis=1)\n",
    "\n",
    "# Compute synthetic ratios\n",
    "future_features['solar_load_ratio'] = future_features['DE_solar_generation_actual'] / future_features['DE_load_actual_entsoe_transparency']\n",
    "future_features['wind_load_ratio'] = future_features['DE_wind_generation_actual'] / future_features['DE_load_actual_entsoe_transparency']\n",
    "\n",
    "# Add calendar features\n",
    "future_features['hour'] = future_features.index.hour\n",
    "future_features['dayofweek'] = future_features.index.dayofweek\n",
    "future_features['month'] = future_features.index.month\n",
    "\n",
    "# Load trained price model and previous price data\n",
    "price_model = XGBRegressor()\n",
    "full_df = df.copy()\n",
    "full_df['price_lag_1h'] = full_df['Price (EUR/MWhe)'].shift(1)\n",
    "full_df['price_lag_24h'] = full_df['Price (EUR/MWhe)'].shift(24)\n",
    "full_df['price_lag_168h'] = full_df['Price (EUR/MWhe)'].shift(168)\n",
    "full_df['price_roll_24h'] = full_df['Price (EUR/MWhe)'].rolling(24).mean()\n",
    "full_df['price_roll_168h'] = full_df['Price (EUR/MWhe)'].rolling(168).mean()\n",
    "full_df.dropna(inplace=True)\n",
    "\n",
    "# Train price model on original features\n",
    "features = [\n",
    "    'DE_solar_generation_actual', 'DE_wind_generation_actual',\n",
    "    'DE_load_actual_entsoe_transparency', 'Gas_Price', 'Oil_Price',\n",
    "    'DE_radiation_direct_horizontal', 'DE_radiation_diffuse_horizontal', 'DE_temperature',\n",
    "    'price_lag_1h', 'price_lag_24h', 'price_lag_168h',\n",
    "    'price_roll_24h', 'price_roll_168h', 'hour', 'dayofweek', 'month',\n",
    "    'solar_load_ratio', 'wind_load_ratio'\n",
    "]\n",
    "\n",
    "X_price = full_df[features]\n",
    "y_price = full_df['Price (EUR/MWhe)']\n",
    "price_model.fit(X_price, y_price)\n",
    "\n",
    "# Add price lags and roll features based on historical prices\n",
    "last_prices = df['Price (EUR/MWhe)'].loc['2019-12-23':'2019-12-30'].copy()\n",
    "for i, t in enumerate(future_features.index):\n",
    "    lags = {\n",
    "        'price_lag_1h': last_prices.iloc[-1],\n",
    "        'price_lag_24h': last_prices.iloc[-24],\n",
    "        'price_lag_168h': last_prices.iloc[-168],\n",
    "        'price_roll_24h': last_prices[-24:].mean(),\n",
    "        'price_roll_168h': last_prices[-168:].mean()\n",
    "    }\n",
    "    for k, v in lags.items():\n",
    "        future_features.loc[t, k] = v\n",
    "\n",
    "# Predict\n",
    "X_future = future_features[features].copy()\n",
    "y_pred_price = price_model.predict(X_future)\n",
    "\n",
    "# Compare with actual price\n",
    "actual = df['Price (EUR/MWhe)'].loc['2020-01-01':'2020-01-07']\n",
    "pred_series = pd.Series(y_pred_price[:len(actual)], index=actual.index)\n",
    "\n",
    "mae = mean_absolute_error(actual, pred_series)\n",
    "rmse = np.sqrt(mean_squared_error(actual, pred_series))\n",
    "print(f'📊 Price MAE using forecasted features: {mae:.2f}')\n",
    "print(f'📊 Price RMSE using forecasted features: {rmse:.2f}')\n",
    "\n",
    "plt.figure(figsize=(15,5))\n",
    "plt.plot(actual.index, actual.values, label='Actual')\n",
    "plt.plot(pred_series.index, pred_series.values, label='Predicted (from forecasted features)')\n",
    "plt.title('Energy Price Forecast (Jan 1–7, 2020)')\n",
    "plt.xlabel('Date')\n",
    "plt.ylabel('Price (EUR/MWhe)')\n",
    "plt.legend()\n",
    "plt.grid(True)\n",
    "plt.tight_layout()\n",
    "plt.show()"
   ]
  },
  {
   "cell_type": "markdown",
   "id": "aa522d50",
   "metadata": {},
   "source": [
    "Failed Experiment, also trying to predict features then predict energy prices </br>\n",
    "Finished by Jad Akra on April 20th 2025"
   ]
  }
 ],
 "metadata": {
  "kernelspec": {
   "display_name": "base",
   "language": "python",
   "name": "python3"
  },
  "language_info": {
   "codemirror_mode": {
    "name": "ipython",
    "version": 3
   },
   "file_extension": ".py",
   "mimetype": "text/x-python",
   "name": "python",
   "nbconvert_exporter": "python",
   "pygments_lexer": "ipython3",
   "version": "3.12.8"
  }
 },
 "nbformat": 4,
 "nbformat_minor": 5
}
