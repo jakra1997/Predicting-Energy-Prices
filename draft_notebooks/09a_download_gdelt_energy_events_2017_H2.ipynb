{
 "cells": [
  {
   "cell_type": "markdown",
   "metadata": {},
   "source": [
    "# 🌍 GDELT Event Scraper — Global Energy Themes (Jul–Dec 2017)\n",
    "\n",
    "This notebook pulls GDELT event records with global impact related to energy (e.g. OIL, GAS, ELECTRICITY) for the last half of 2017.\n",
    "- Filters by energy-related `themes`\n",
    "- Collects all 15-minute GDELT files over 6 months\n",
    "- Stores results to `../data/raw/gdelt_energy_events_2017_H2.csv`"
   ]
  },
  {
   "cell_type": "code",
   "execution_count": 1,
   "metadata": {},
   "outputs": [],
   "source": [
    "import pandas as pd\n",
    "from datetime import datetime, timedelta\n",
    "import requests\n",
    "from io import StringIO\n",
    "from tqdm.notebook import tqdm"
   ]
  },
  {
   "cell_type": "code",
   "execution_count": 2,
   "metadata": {},
   "outputs": [],
   "source": [
    "# Parameters\n",
    "start_date = datetime(2017, 7, 1)\n",
    "end_date = datetime(2017, 12, 31)\n",
    "keywords = ['ENERGY', 'OIL', 'GAS', 'ELECTRICITY']\n",
    "output_path = '../data/raw/gdelt_energy_events_2017_H2.csv'\n",
    "base_url = \"http://data.gdeltproject.org/gdeltv2/\"\n",
    "\n",
    "# Filename generator for 15-min intervals\n",
    "def generate_filenames(start, end):\n",
    "    current = start\n",
    "    while current <= end:\n",
    "        yield current.strftime(\"events/%Y%m%d%H%M00.export.CSV\")\n",
    "        current += timedelta(minutes=15)"
   ]
  },
  {
   "cell_type": "code",
   "execution_count": 3,
   "metadata": {},
   "outputs": [
    {
     "name": "stdout",
     "output_type": "stream",
     "text": [
      "🔍 Searching for global energy-related events...\n"
     ]
    },
    {
     "data": {
      "application/vnd.jupyter.widget-view+json": {
       "model_id": "5a8395163df24ba0b53c7d1c8b21df78",
       "version_major": 2,
       "version_minor": 0
      },
      "text/plain": [
       "  0%|          | 0/17569 [00:00<?, ?it/s]"
      ]
     },
     "metadata": {},
     "output_type": "display_data"
    }
   ],
   "source": [
    "# Download and filter\n",
    "records = []\n",
    "print(\"🔍 Searching for global energy-related events...\")\n",
    "\n",
    "for fname in tqdm(list(generate_filenames(start_date, end_date))):\n",
    "    url = base_url + fname\n",
    "    try:\n",
    "        r = requests.get(url, timeout=10)\n",
    "        if r.status_code == 200:\n",
    "            df = pd.read_csv(StringIO(r.text), sep='\\t', header=None, low_memory=False)\n",
    "            df.columns = [f'col_{i}' for i in range(df.shape[1])]\n",
    "            df = df[df['col_50'].fillna('').str.contains('|'.join(keywords), case=False)]\n",
    "            if not df.empty:\n",
    "                records.append(df)\n",
    "    except Exception:\n",
    "        continue"
   ]
  },
  {
   "cell_type": "code",
   "execution_count": 4,
   "metadata": {},
   "outputs": [
    {
     "name": "stdout",
     "output_type": "stream",
     "text": [
      "⚠️ No matching energy-related events found.\n"
     ]
    }
   ],
   "source": [
    "# Save all matched rows\n",
    "if records:\n",
    "    result = pd.concat(records)\n",
    "    result.to_csv(output_path, index=False)\n",
    "    print(f\"✅ Saved {len(result)} records to: {output_path}\")\n",
    "else:\n",
    "    print(\"⚠️ No matching energy-related events found.\")"
   ]
  },
  {
   "cell_type": "markdown",
   "id": "5eafdb95",
   "metadata": {},
   "source": [
    "Need to find a new strategy for collecting news </br>\n",
    "Finished bu Jad Akra on April 20th 2025"
   ]
  }
 ],
 "metadata": {
  "kernelspec": {
   "display_name": "base",
   "language": "python",
   "name": "python3"
  },
  "language_info": {
   "codemirror_mode": {
    "name": "ipython",
    "version": 3
   },
   "file_extension": ".py",
   "mimetype": "text/x-python",
   "name": "python",
   "nbconvert_exporter": "python",
   "pygments_lexer": "ipython3",
   "version": "3.12.8"
  }
 },
 "nbformat": 4,
 "nbformat_minor": 5
}
